{
 "cells": [
  {
   "cell_type": "markdown",
   "id": "65ba5d66",
   "metadata": {},
   "source": [
    ">  # **Movie Genre Classification**"
   ]
  },
  {
   "cell_type": "code",
   "execution_count": 1,
   "id": "b84267a5",
   "metadata": {
    "_cell_guid": "b1076dfc-b9ad-4769-8c92-a6c4dae69d19",
    "_uuid": "8f2839f25d086af736a60e9eeb907d3b93b6e0e5",
    "execution": {
     "iopub.execute_input": "2024-06-12T23:34:19.429026Z",
     "iopub.status.busy": "2024-06-12T23:34:19.428669Z",
     "iopub.status.idle": "2024-06-12T23:34:20.217166Z",
     "shell.execute_reply": "2024-06-12T23:34:20.215897Z"
    },
    "papermill": {
     "duration": 0.80216,
     "end_time": "2024-06-12T23:34:20.220133",
     "exception": false,
     "start_time": "2024-06-12T23:34:19.417973",
     "status": "completed"
    },
    "tags": []
   },
   "outputs": [],
   "source": [
    "# This Python 3 environment comes with many helpful analytics libraries installed\n",
    "# It is defined by the kaggle/python Docker image: https://github.com/kaggle/docker-python\n",
    "# For example, here's several helpful packages to load\n",
    "\n",
    "import numpy as np # linear algebra\n",
    "import pandas as pd # data processing, CSV file I/O (e.g. pd.read_csv)\n",
    "\n",
    "# Input data files are available in the read-only \"../input/\" directory\n",
    "# For example, running this (by clicking run or pressing Shift+Enter) will list all files under the input directory\n",
    "\n",
    "import os\n",
    "for dirname, _, filenames in os.walk('ftp://ftp.fu-berlin.de/pub/misc/movies/database/'):\n",
    "    for filename in filenames:\n",
    "        print(os.path.join(dirname, filename))\n",
    "\n",
    "# You can write up to 20GB to the current directory (/kaggle/working/) that gets preserved as output when you create a version using \"Save & Run All\" \n",
    "# You can also write temporary files to /kaggle/temp/, but they won't be saved outside of the current session"
   ]
  },
  {
   "cell_type": "markdown",
   "id": "0a0b15ea",
   "metadata": {
    "papermill": {
     "duration": 0.008202,
     "end_time": "2024-06-12T23:34:20.237150",
     "exception": false,
     "start_time": "2024-06-12T23:34:20.228948",
     "status": "completed"
    },
    "tags": []
   },
   "source": [
    "# DATA IMPORT AND INITIAL EXPLORATION"
   ]
  },
  {
   "cell_type": "code",
   "execution_count": 2,
   "id": "6babc46f",
   "metadata": {
    "execution": {
     "iopub.execute_input": "2024-06-12T23:34:20.255519Z",
     "iopub.status.busy": "2024-06-12T23:34:20.254599Z",
     "iopub.status.idle": "2024-06-12T23:34:20.259273Z",
     "shell.execute_reply": "2024-06-12T23:34:20.258259Z"
    },
    "papermill": {
     "duration": 0.016155,
     "end_time": "2024-06-12T23:34:20.261404",
     "exception": false,
     "start_time": "2024-06-12T23:34:20.245249",
     "status": "completed"
    },
    "tags": []
   },
   "outputs": [],
   "source": [
    "# IMPORTING NECESSARY LIBRARIES\n",
    "import pandas as pd\n",
    "import numpy as np"
   ]
  },
  {
   "cell_type": "code",
   "execution_count": 3,
   "id": "d54391d3",
   "metadata": {
    "execution": {
     "iopub.execute_input": "2024-06-12T23:34:20.279223Z",
     "iopub.status.busy": "2024-06-12T23:34:20.278881Z",
     "iopub.status.idle": "2024-06-12T23:34:20.283376Z",
     "shell.execute_reply": "2024-06-12T23:34:20.282418Z"
    },
    "papermill": {
     "duration": 0.015649,
     "end_time": "2024-06-12T23:34:20.285440",
     "exception": false,
     "start_time": "2024-06-12T23:34:20.269791",
     "status": "completed"
    },
    "tags": []
   },
   "outputs": [],
   "source": [
    "# DEFINE COLUMN NAMES FOR THE DATASETS\n",
    "columns = [ 'Movie Name' , 'Genre' , 'Description']\n",
    "column = ['Movie Name' , 'Description']"
   ]
  },
  {
   "cell_type": "code",
   "execution_count": 4,
   "id": "313b79a3",
   "metadata": {
    "execution": {
     "iopub.execute_input": "2024-06-12T23:34:20.303941Z",
     "iopub.status.busy": "2024-06-12T23:34:20.303051Z",
     "iopub.status.idle": "2024-06-12T23:34:20.953488Z",
     "shell.execute_reply": "2024-06-12T23:34:20.952473Z"
    },
    "papermill": {
     "duration": 0.662138,
     "end_time": "2024-06-12T23:34:20.955833",
     "exception": false,
     "start_time": "2024-06-12T23:34:20.293695",
     "status": "completed"
    },
    "tags": []
   },
   "outputs": [
    {
     "data": {
      "text/html": [
       "<div>\n",
       "<style scoped>\n",
       "    .dataframe tbody tr th:only-of-type {\n",
       "        vertical-align: middle;\n",
       "    }\n",
       "\n",
       "    .dataframe tbody tr th {\n",
       "        vertical-align: top;\n",
       "    }\n",
       "\n",
       "    .dataframe thead th {\n",
       "        text-align: right;\n",
       "    }\n",
       "</style>\n",
       "<table border=\"1\" class=\"dataframe\">\n",
       "  <thead>\n",
       "    <tr style=\"text-align: right;\">\n",
       "      <th></th>\n",
       "      <th>Movie Name</th>\n",
       "      <th>Genre</th>\n",
       "      <th>Description</th>\n",
       "    </tr>\n",
       "  </thead>\n",
       "  <tbody>\n",
       "    <tr>\n",
       "      <th>1</th>\n",
       "      <td>Oscar et la dame rose (2009)</td>\n",
       "      <td>drama</td>\n",
       "      <td>Listening in to a conversation between his do...</td>\n",
       "    </tr>\n",
       "    <tr>\n",
       "      <th>2</th>\n",
       "      <td>Cupid (1997)</td>\n",
       "      <td>thriller</td>\n",
       "      <td>A brother and sister with a past incestuous r...</td>\n",
       "    </tr>\n",
       "    <tr>\n",
       "      <th>3</th>\n",
       "      <td>Young, Wild and Wonderful (1980)</td>\n",
       "      <td>adult</td>\n",
       "      <td>As the bus empties the students for their fie...</td>\n",
       "    </tr>\n",
       "    <tr>\n",
       "      <th>4</th>\n",
       "      <td>The Secret Sin (1915)</td>\n",
       "      <td>drama</td>\n",
       "      <td>To help their unemployed father make ends mee...</td>\n",
       "    </tr>\n",
       "    <tr>\n",
       "      <th>5</th>\n",
       "      <td>The Unrecovered (2007)</td>\n",
       "      <td>drama</td>\n",
       "      <td>The film's title refers not only to the un-re...</td>\n",
       "    </tr>\n",
       "  </tbody>\n",
       "</table>\n",
       "</div>"
      ],
      "text/plain": [
       "                           Movie Name       Genre  \\\n",
       "1       Oscar et la dame rose (2009)       drama    \n",
       "2                       Cupid (1997)    thriller    \n",
       "3   Young, Wild and Wonderful (1980)       adult    \n",
       "4              The Secret Sin (1915)       drama    \n",
       "5             The Unrecovered (2007)       drama    \n",
       "\n",
       "                                         Description  \n",
       "1   Listening in to a conversation between his do...  \n",
       "2   A brother and sister with a past incestuous r...  \n",
       "3   As the bus empties the students for their fie...  \n",
       "4   To help their unemployed father make ends mee...  \n",
       "5   The film's title refers not only to the un-re...  "
      ]
     },
     "execution_count": 4,
     "metadata": {},
     "output_type": "execute_result"
    }
   ],
   "source": [
    "# READ THE TRAINING DATA FROM 'train_data.txt' WITH A CUSTOM DELIMITER ':::'\n",
    "df_train = pd.read_csv('./train_data.txt' , delimiter=':::' , engine='python' , names=columns , index_col=0 )\n",
    "\n",
    "# DISPLAY THE FIRST FEW ROWS OF THE TRAINING DATASET\n",
    "df_train.head()"
   ]
  },
  {
   "cell_type": "code",
   "execution_count": 5,
   "id": "2045b997",
   "metadata": {
    "execution": {
     "iopub.execute_input": "2024-06-12T23:34:20.974569Z",
     "iopub.status.busy": "2024-06-12T23:34:20.974195Z",
     "iopub.status.idle": "2024-06-12T23:34:21.679142Z",
     "shell.execute_reply": "2024-06-12T23:34:21.678240Z"
    },
    "papermill": {
     "duration": 0.716794,
     "end_time": "2024-06-12T23:34:21.681409",
     "exception": false,
     "start_time": "2024-06-12T23:34:20.964615",
     "status": "completed"
    },
    "tags": []
   },
   "outputs": [
    {
     "data": {
      "text/html": [
       "<div>\n",
       "<style scoped>\n",
       "    .dataframe tbody tr th:only-of-type {\n",
       "        vertical-align: middle;\n",
       "    }\n",
       "\n",
       "    .dataframe tbody tr th {\n",
       "        vertical-align: top;\n",
       "    }\n",
       "\n",
       "    .dataframe thead th {\n",
       "        text-align: right;\n",
       "    }\n",
       "</style>\n",
       "<table border=\"1\" class=\"dataframe\">\n",
       "  <thead>\n",
       "    <tr style=\"text-align: right;\">\n",
       "      <th></th>\n",
       "      <th>Movie Name</th>\n",
       "      <th>Genre</th>\n",
       "      <th>Description</th>\n",
       "    </tr>\n",
       "  </thead>\n",
       "  <tbody>\n",
       "    <tr>\n",
       "      <th>1</th>\n",
       "      <td>Edgar's Lunch (1998)</td>\n",
       "      <td>thriller</td>\n",
       "      <td>L.R. Brane loves his life - his car, his apar...</td>\n",
       "    </tr>\n",
       "    <tr>\n",
       "      <th>2</th>\n",
       "      <td>La guerra de papá (1977)</td>\n",
       "      <td>comedy</td>\n",
       "      <td>Spain, March 1964: Quico is a very naughty ch...</td>\n",
       "    </tr>\n",
       "    <tr>\n",
       "      <th>3</th>\n",
       "      <td>Off the Beaten Track (2010)</td>\n",
       "      <td>documentary</td>\n",
       "      <td>One year in the life of Albin and his family ...</td>\n",
       "    </tr>\n",
       "    <tr>\n",
       "      <th>4</th>\n",
       "      <td>Meu Amigo Hindu (2015)</td>\n",
       "      <td>drama</td>\n",
       "      <td>His father has died, he hasn't spoken with hi...</td>\n",
       "    </tr>\n",
       "    <tr>\n",
       "      <th>5</th>\n",
       "      <td>Er nu zhai (1955)</td>\n",
       "      <td>drama</td>\n",
       "      <td>Before he was known internationally as a mart...</td>\n",
       "    </tr>\n",
       "  </tbody>\n",
       "</table>\n",
       "</div>"
      ],
      "text/plain": [
       "                      Movie Name          Genre  \\\n",
       "1          Edgar's Lunch (1998)       thriller    \n",
       "2      La guerra de papá (1977)         comedy    \n",
       "3   Off the Beaten Track (2010)    documentary    \n",
       "4        Meu Amigo Hindu (2015)          drama    \n",
       "5             Er nu zhai (1955)          drama    \n",
       "\n",
       "                                         Description  \n",
       "1   L.R. Brane loves his life - his car, his apar...  \n",
       "2   Spain, March 1964: Quico is a very naughty ch...  \n",
       "3   One year in the life of Albin and his family ...  \n",
       "4   His father has died, he hasn't spoken with hi...  \n",
       "5   Before he was known internationally as a mart...  "
      ]
     },
     "execution_count": 5,
     "metadata": {},
     "output_type": "execute_result"
    }
   ],
   "source": [
    "# READ THE TEST DATA FROM 'test_data_solution.txt' WITH A CUSTOM DELIMITER ':::'\n",
    "df_test = pd.read_csv('./test_data_solution.txt', delimiter=':::' , engine='python' , names=columns , index_col=0 )\n",
    "\n",
    "# DISPLAY THE FIRST FEW ROWS OF THE TEST DATASET\n",
    "df_test.head()"
   ]
  },
  {
   "cell_type": "markdown",
   "id": "7d48461e",
   "metadata": {
    "papermill": {
     "duration": 0.008358,
     "end_time": "2024-06-12T23:34:21.698467",
     "exception": false,
     "start_time": "2024-06-12T23:34:21.690109",
     "status": "completed"
    },
    "tags": []
   },
   "source": [
    "# DATA PREPROCESSING"
   ]
  },
  {
   "cell_type": "code",
   "execution_count": 6,
   "id": "4bbe226c",
   "metadata": {
    "execution": {
     "iopub.execute_input": "2024-06-12T23:34:21.716956Z",
     "iopub.status.busy": "2024-06-12T23:34:21.716625Z",
     "iopub.status.idle": "2024-06-12T23:34:21.911694Z",
     "shell.execute_reply": "2024-06-12T23:34:21.910782Z"
    },
    "papermill": {
     "duration": 0.207147,
     "end_time": "2024-06-12T23:34:21.914121",
     "exception": false,
     "start_time": "2024-06-12T23:34:21.706974",
     "status": "completed"
    },
    "tags": []
   },
   "outputs": [],
   "source": [
    "# CONVERT THE 'DESCRIPTION' COLUMN TO LOWERCASE IN BOTH TRAINING AND TEST DATASETS\n",
    "df_train.loc[:,'Description'] = df_train['Description'].astype(str).str.lower()\n",
    "df_test.loc[:,'Description'] = df_test['Description'].astype(str).str.lower()"
   ]
  },
  {
   "cell_type": "code",
   "execution_count": null,
   "id": "6c453b15",
   "metadata": {},
   "outputs": [],
   "source": []
  },
  {
   "cell_type": "code",
   "execution_count": 7,
   "id": "5852c1c3",
   "metadata": {
    "execution": {
     "iopub.execute_input": "2024-06-12T23:34:21.934073Z",
     "iopub.status.busy": "2024-06-12T23:34:21.933231Z",
     "iopub.status.idle": "2024-06-12T23:34:21.946874Z",
     "shell.execute_reply": "2024-06-12T23:34:21.945881Z"
    },
    "papermill": {
     "duration": 0.025501,
     "end_time": "2024-06-12T23:34:21.949034",
     "exception": false,
     "start_time": "2024-06-12T23:34:21.923533",
     "status": "completed"
    },
    "tags": []
   },
   "outputs": [],
   "source": [
    "# DROP THE 'MOVIE NAME' COLUMN FROM BOTH TRAINING AND TEST DATASETS\n",
    "df_train.drop(columns=['Movie Name'], inplace = True)\n",
    "df_test.drop(columns=['Movie Name'], inplace = True)"
   ]
  },
  {
   "cell_type": "code",
   "execution_count": 8,
   "id": "6d0cf919",
   "metadata": {
    "execution": {
     "iopub.execute_input": "2024-06-12T23:34:21.967861Z",
     "iopub.status.busy": "2024-06-12T23:34:21.967192Z",
     "iopub.status.idle": "2024-06-12T23:34:21.976226Z",
     "shell.execute_reply": "2024-06-12T23:34:21.975338Z"
    },
    "papermill": {
     "duration": 0.020498,
     "end_time": "2024-06-12T23:34:21.978215",
     "exception": false,
     "start_time": "2024-06-12T23:34:21.957717",
     "status": "completed"
    },
    "tags": []
   },
   "outputs": [
    {
     "data": {
      "text/html": [
       "<div>\n",
       "<style scoped>\n",
       "    .dataframe tbody tr th:only-of-type {\n",
       "        vertical-align: middle;\n",
       "    }\n",
       "\n",
       "    .dataframe tbody tr th {\n",
       "        vertical-align: top;\n",
       "    }\n",
       "\n",
       "    .dataframe thead th {\n",
       "        text-align: right;\n",
       "    }\n",
       "</style>\n",
       "<table border=\"1\" class=\"dataframe\">\n",
       "  <thead>\n",
       "    <tr style=\"text-align: right;\">\n",
       "      <th></th>\n",
       "      <th>Genre</th>\n",
       "      <th>Description</th>\n",
       "    </tr>\n",
       "  </thead>\n",
       "  <tbody>\n",
       "    <tr>\n",
       "      <th>1</th>\n",
       "      <td>drama</td>\n",
       "      <td>listening in to a conversation between his do...</td>\n",
       "    </tr>\n",
       "    <tr>\n",
       "      <th>2</th>\n",
       "      <td>thriller</td>\n",
       "      <td>a brother and sister with a past incestuous r...</td>\n",
       "    </tr>\n",
       "    <tr>\n",
       "      <th>3</th>\n",
       "      <td>adult</td>\n",
       "      <td>as the bus empties the students for their fie...</td>\n",
       "    </tr>\n",
       "    <tr>\n",
       "      <th>4</th>\n",
       "      <td>drama</td>\n",
       "      <td>to help their unemployed father make ends mee...</td>\n",
       "    </tr>\n",
       "    <tr>\n",
       "      <th>5</th>\n",
       "      <td>drama</td>\n",
       "      <td>the film's title refers not only to the un-re...</td>\n",
       "    </tr>\n",
       "  </tbody>\n",
       "</table>\n",
       "</div>"
      ],
      "text/plain": [
       "        Genre                                        Description\n",
       "1      drama    listening in to a conversation between his do...\n",
       "2   thriller    a brother and sister with a past incestuous r...\n",
       "3      adult    as the bus empties the students for their fie...\n",
       "4      drama    to help their unemployed father make ends mee...\n",
       "5      drama    the film's title refers not only to the un-re..."
      ]
     },
     "execution_count": 8,
     "metadata": {},
     "output_type": "execute_result"
    }
   ],
   "source": [
    "# DISPLAY THE FIRST FEW ROWS OF THE MODIFIED TRAINING DATASET\n",
    "df_train.head()"
   ]
  },
  {
   "cell_type": "code",
   "execution_count": 9,
   "id": "732d2e04",
   "metadata": {
    "execution": {
     "iopub.execute_input": "2024-06-12T23:34:21.996915Z",
     "iopub.status.busy": "2024-06-12T23:34:21.996589Z",
     "iopub.status.idle": "2024-06-12T23:34:22.005349Z",
     "shell.execute_reply": "2024-06-12T23:34:22.004435Z"
    },
    "papermill": {
     "duration": 0.020458,
     "end_time": "2024-06-12T23:34:22.007429",
     "exception": false,
     "start_time": "2024-06-12T23:34:21.986971",
     "status": "completed"
    },
    "tags": []
   },
   "outputs": [
    {
     "data": {
      "text/html": [
       "<div>\n",
       "<style scoped>\n",
       "    .dataframe tbody tr th:only-of-type {\n",
       "        vertical-align: middle;\n",
       "    }\n",
       "\n",
       "    .dataframe tbody tr th {\n",
       "        vertical-align: top;\n",
       "    }\n",
       "\n",
       "    .dataframe thead th {\n",
       "        text-align: right;\n",
       "    }\n",
       "</style>\n",
       "<table border=\"1\" class=\"dataframe\">\n",
       "  <thead>\n",
       "    <tr style=\"text-align: right;\">\n",
       "      <th></th>\n",
       "      <th>Genre</th>\n",
       "      <th>Description</th>\n",
       "    </tr>\n",
       "  </thead>\n",
       "  <tbody>\n",
       "    <tr>\n",
       "      <th>1</th>\n",
       "      <td>thriller</td>\n",
       "      <td>l.r. brane loves his life - his car, his apar...</td>\n",
       "    </tr>\n",
       "    <tr>\n",
       "      <th>2</th>\n",
       "      <td>comedy</td>\n",
       "      <td>spain, march 1964: quico is a very naughty ch...</td>\n",
       "    </tr>\n",
       "    <tr>\n",
       "      <th>3</th>\n",
       "      <td>documentary</td>\n",
       "      <td>one year in the life of albin and his family ...</td>\n",
       "    </tr>\n",
       "    <tr>\n",
       "      <th>4</th>\n",
       "      <td>drama</td>\n",
       "      <td>his father has died, he hasn't spoken with hi...</td>\n",
       "    </tr>\n",
       "    <tr>\n",
       "      <th>5</th>\n",
       "      <td>drama</td>\n",
       "      <td>before he was known internationally as a mart...</td>\n",
       "    </tr>\n",
       "  </tbody>\n",
       "</table>\n",
       "</div>"
      ],
      "text/plain": [
       "           Genre                                        Description\n",
       "1      thriller    l.r. brane loves his life - his car, his apar...\n",
       "2        comedy    spain, march 1964: quico is a very naughty ch...\n",
       "3   documentary    one year in the life of albin and his family ...\n",
       "4         drama    his father has died, he hasn't spoken with hi...\n",
       "5         drama    before he was known internationally as a mart..."
      ]
     },
     "execution_count": 9,
     "metadata": {},
     "output_type": "execute_result"
    }
   ],
   "source": [
    "# DISPLAY THE FIRST FEW ROWS OF THE MODIFIED TEST DATASET\n",
    "df_test.head()"
   ]
  },
  {
   "cell_type": "code",
   "execution_count": 10,
   "id": "7fc7bd4a",
   "metadata": {
    "execution": {
     "iopub.execute_input": "2024-06-12T23:34:22.027223Z",
     "iopub.status.busy": "2024-06-12T23:34:22.026412Z",
     "iopub.status.idle": "2024-06-12T23:34:22.062691Z",
     "shell.execute_reply": "2024-06-12T23:34:22.061687Z"
    },
    "papermill": {
     "duration": 0.048397,
     "end_time": "2024-06-12T23:34:22.064837",
     "exception": false,
     "start_time": "2024-06-12T23:34:22.016440",
     "status": "completed"
    },
    "tags": []
   },
   "outputs": [
    {
     "name": "stdout",
     "output_type": "stream",
     "text": [
      "<class 'pandas.core.frame.DataFrame'>\n",
      "Index: 54214 entries, 1 to 54214\n",
      "Data columns (total 2 columns):\n",
      " #   Column       Non-Null Count  Dtype \n",
      "---  ------       --------------  ----- \n",
      " 0   Genre        54214 non-null  object\n",
      " 1   Description  54214 non-null  object\n",
      "dtypes: object(2)\n",
      "memory usage: 1.2+ MB\n",
      "None\n"
     ]
    }
   ],
   "source": [
    "# DISPLAY INFORMATION ABOUT THE TRAINING DATASET\n",
    "print(df_train.info())"
   ]
  },
  {
   "cell_type": "code",
   "execution_count": 11,
   "id": "ccbf64af",
   "metadata": {
    "execution": {
     "iopub.execute_input": "2024-06-12T23:34:22.084520Z",
     "iopub.status.busy": "2024-06-12T23:34:22.083859Z",
     "iopub.status.idle": "2024-06-12T23:34:22.102609Z",
     "shell.execute_reply": "2024-06-12T23:34:22.101600Z"
    },
    "papermill": {
     "duration": 0.030799,
     "end_time": "2024-06-12T23:34:22.104733",
     "exception": false,
     "start_time": "2024-06-12T23:34:22.073934",
     "status": "completed"
    },
    "tags": []
   },
   "outputs": [
    {
     "name": "stdout",
     "output_type": "stream",
     "text": [
      "<class 'pandas.core.frame.DataFrame'>\n",
      "Index: 54200 entries, 1 to 54200\n",
      "Data columns (total 2 columns):\n",
      " #   Column       Non-Null Count  Dtype \n",
      "---  ------       --------------  ----- \n",
      " 0   Genre        54200 non-null  object\n",
      " 1   Description  54200 non-null  object\n",
      "dtypes: object(2)\n",
      "memory usage: 1.2+ MB\n",
      "None\n"
     ]
    }
   ],
   "source": [
    "# DISPLAY INFORMATION ABOUT THE TEST DATASET\n",
    "print(df_test.info())"
   ]
  },
  {
   "cell_type": "code",
   "execution_count": 12,
   "id": "cb5f6440",
   "metadata": {
    "execution": {
     "iopub.execute_input": "2024-06-12T23:34:22.124843Z",
     "iopub.status.busy": "2024-06-12T23:34:22.124511Z",
     "iopub.status.idle": "2024-06-12T23:34:22.129255Z",
     "shell.execute_reply": "2024-06-12T23:34:22.128378Z"
    },
    "papermill": {
     "duration": 0.017115,
     "end_time": "2024-06-12T23:34:22.131390",
     "exception": false,
     "start_time": "2024-06-12T23:34:22.114275",
     "status": "completed"
    },
    "tags": []
   },
   "outputs": [
    {
     "name": "stdout",
     "output_type": "stream",
     "text": [
      "(54214, 2)\n"
     ]
    }
   ],
   "source": [
    "# DISPLAY THE SHAPE (NUMBER OF ROWS AND COLUMNS) OF THE TRAINING DATASET\n",
    "print(df_train.shape)"
   ]
  },
  {
   "cell_type": "code",
   "execution_count": 13,
   "id": "79d3afc8",
   "metadata": {
    "execution": {
     "iopub.execute_input": "2024-06-12T23:34:22.150793Z",
     "iopub.status.busy": "2024-06-12T23:34:22.150482Z",
     "iopub.status.idle": "2024-06-12T23:34:22.155547Z",
     "shell.execute_reply": "2024-06-12T23:34:22.154538Z"
    },
    "papermill": {
     "duration": 0.017241,
     "end_time": "2024-06-12T23:34:22.157727",
     "exception": false,
     "start_time": "2024-06-12T23:34:22.140486",
     "status": "completed"
    },
    "tags": []
   },
   "outputs": [
    {
     "name": "stdout",
     "output_type": "stream",
     "text": [
      "(54200, 2)\n"
     ]
    }
   ],
   "source": [
    "# DISPLAY THE SHAPE (NUMBER OF ROWS AND COLUMNS) OF THE TEST DATASET\n",
    "print(df_test.shape)"
   ]
  },
  {
   "cell_type": "markdown",
   "id": "2f4d5df3",
   "metadata": {
    "papermill": {
     "duration": 0.008724,
     "end_time": "2024-06-12T23:34:22.175672",
     "exception": false,
     "start_time": "2024-06-12T23:34:22.166948",
     "status": "completed"
    },
    "tags": []
   },
   "source": [
    "# DATA CLEANING"
   ]
  },
  {
   "cell_type": "code",
   "execution_count": 14,
   "id": "2d837cf9",
   "metadata": {
    "execution": {
     "iopub.execute_input": "2024-06-12T23:34:22.195142Z",
     "iopub.status.busy": "2024-06-12T23:34:22.194809Z",
     "iopub.status.idle": "2024-06-12T23:34:22.300757Z",
     "shell.execute_reply": "2024-06-12T23:34:22.299791Z"
    },
    "papermill": {
     "duration": 0.118333,
     "end_time": "2024-06-12T23:34:22.303047",
     "exception": false,
     "start_time": "2024-06-12T23:34:22.184714",
     "status": "completed"
    },
    "tags": []
   },
   "outputs": [
    {
     "name": "stdout",
     "output_type": "stream",
     "text": [
      "TRAINING DUPLICATES: 110\n"
     ]
    }
   ],
   "source": [
    "# CHECK FOR DUPLICATE ROWS IN THE TRAINING DATASET\n",
    "print(\"TRAINING DUPLICATES:\", df_train.duplicated().sum())"
   ]
  },
  {
   "cell_type": "code",
   "execution_count": 15,
   "id": "19faf67b",
   "metadata": {
    "execution": {
     "iopub.execute_input": "2024-06-12T23:34:22.323506Z",
     "iopub.status.busy": "2024-06-12T23:34:22.323147Z",
     "iopub.status.idle": "2024-06-12T23:34:22.428834Z",
     "shell.execute_reply": "2024-06-12T23:34:22.427672Z"
    },
    "papermill": {
     "duration": 0.118484,
     "end_time": "2024-06-12T23:34:22.431058",
     "exception": false,
     "start_time": "2024-06-12T23:34:22.312574",
     "status": "completed"
    },
    "tags": []
   },
   "outputs": [
    {
     "name": "stdout",
     "output_type": "stream",
     "text": [
      "TEST DUPLICATES: 114\n"
     ]
    }
   ],
   "source": [
    "# CHECK FOR DUPLICATE ROWS IN THE TEST DATASET\n",
    "print(\"TEST DUPLICATES:\", df_test.duplicated().sum())"
   ]
  },
  {
   "cell_type": "code",
   "execution_count": 16,
   "id": "8f4c02a3",
   "metadata": {
    "execution": {
     "iopub.execute_input": "2024-06-12T23:34:22.451184Z",
     "iopub.status.busy": "2024-06-12T23:34:22.450846Z",
     "iopub.status.idle": "2024-06-12T23:34:22.654179Z",
     "shell.execute_reply": "2024-06-12T23:34:22.653213Z"
    },
    "papermill": {
     "duration": 0.216327,
     "end_time": "2024-06-12T23:34:22.656886",
     "exception": false,
     "start_time": "2024-06-12T23:34:22.440559",
     "status": "completed"
    },
    "tags": []
   },
   "outputs": [],
   "source": [
    "# DROP DUPLICATE ROWS FROM THE TRAINING DATASET\n",
    "df_train = df_train.drop_duplicates(keep ='first')\n",
    "\n",
    "# DROP DUPLICATE ROWS FROM THE TEST DATASET\n",
    "df_test = df_test.drop_duplicates(keep = 'first')"
   ]
  },
  {
   "cell_type": "code",
   "execution_count": 17,
   "id": "9e8f3580",
   "metadata": {
    "execution": {
     "iopub.execute_input": "2024-06-12T23:34:22.677242Z",
     "iopub.status.busy": "2024-06-12T23:34:22.676911Z",
     "iopub.status.idle": "2024-06-12T23:34:22.874775Z",
     "shell.execute_reply": "2024-06-12T23:34:22.873751Z"
    },
    "papermill": {
     "duration": 0.210425,
     "end_time": "2024-06-12T23:34:22.877028",
     "exception": false,
     "start_time": "2024-06-12T23:34:22.666603",
     "status": "completed"
    },
    "tags": []
   },
   "outputs": [
    {
     "name": "stdout",
     "output_type": "stream",
     "text": [
      "TRAINING DUPLICATES AFTER REMOVAL: 0\n",
      "TEST DUPLICATES AFTER REMOVAL: 0\n"
     ]
    }
   ],
   "source": [
    "# VERIFY NO DUPLICATES REMAIN IN THE TRAINING DATASET\n",
    "print(\"TRAINING DUPLICATES AFTER REMOVAL:\", df_train.duplicated().sum())\n",
    "\n",
    "# VERIFY NO DUPLICATES REMAIN IN THE TEST DATASET\n",
    "print(\"TEST DUPLICATES AFTER REMOVAL:\", df_test.duplicated().sum())"
   ]
  },
  {
   "cell_type": "code",
   "execution_count": 18,
   "id": "f35aacc2",
   "metadata": {
    "execution": {
     "iopub.execute_input": "2024-06-12T23:34:22.897749Z",
     "iopub.status.busy": "2024-06-12T23:34:22.896941Z",
     "iopub.status.idle": "2024-06-12T23:34:23.093602Z",
     "shell.execute_reply": "2024-06-12T23:34:23.092635Z"
    },
    "papermill": {
     "duration": 0.209353,
     "end_time": "2024-06-12T23:34:23.095865",
     "exception": false,
     "start_time": "2024-06-12T23:34:22.886512",
     "status": "completed"
    },
    "tags": []
   },
   "outputs": [
    {
     "name": "stdout",
     "output_type": "stream",
     "text": [
      "TRAINING DUPLICATES AFTER REMOVAL: 0\n",
      "TEST DUPLICATES AFTER REMOVAL: 0\n"
     ]
    }
   ],
   "source": [
    "# VERIFY NO DUPLICATES REMAIN IN THE TRAINING DATASET\n",
    "print(\"TRAINING DUPLICATES AFTER REMOVAL:\", df_train.duplicated().sum())\n",
    "\n",
    "# VERIFY NO DUPLICATES REMAIN IN THE TEST DATASET\n",
    "print(\"TEST DUPLICATES AFTER REMOVAL:\", df_test.duplicated().sum())"
   ]
  },
  {
   "cell_type": "code",
   "execution_count": 19,
   "id": "dae38667",
   "metadata": {
    "execution": {
     "iopub.execute_input": "2024-06-12T23:34:23.116163Z",
     "iopub.status.busy": "2024-06-12T23:34:23.115826Z",
     "iopub.status.idle": "2024-06-12T23:34:23.120656Z",
     "shell.execute_reply": "2024-06-12T23:34:23.119703Z"
    },
    "papermill": {
     "duration": 0.017613,
     "end_time": "2024-06-12T23:34:23.123038",
     "exception": false,
     "start_time": "2024-06-12T23:34:23.105425",
     "status": "completed"
    },
    "tags": []
   },
   "outputs": [
    {
     "name": "stdout",
     "output_type": "stream",
     "text": [
      "(54104, 2)\n",
      "(54086, 2)\n"
     ]
    }
   ],
   "source": [
    "# DISPLAY THE SHAPE OF THE TRAINING DATASET AFTER REMOVING DUPLICATES\n",
    "print(df_train.shape)\n",
    "\n",
    "# DISPLAY THE SHAPE OF THE TEST DATASET AFTER REMOVING DUPLICATES\n",
    "print(df_test.shape)"
   ]
  },
  {
   "cell_type": "code",
   "execution_count": 20,
   "id": "a86248fe",
   "metadata": {},
   "outputs": [
    {
     "name": "stdout",
     "output_type": "stream",
     "text": [
      "Index(['Genre', 'Description'], dtype='object')\n",
      "Index(['Genre', 'Description'], dtype='object')\n"
     ]
    }
   ],
   "source": [
    "print(df_train.columns)\n",
    "print(df_test.columns)"
   ]
  },
  {
   "cell_type": "code",
   "execution_count": 21,
   "id": "ed2b6276",
   "metadata": {
    "execution": {
     "iopub.execute_input": "2024-06-12T23:34:23.143528Z",
     "iopub.status.busy": "2024-06-12T23:34:23.143177Z",
     "iopub.status.idle": "2024-06-12T23:34:23.147974Z",
     "shell.execute_reply": "2024-06-12T23:34:23.147074Z"
    },
    "papermill": {
     "duration": 0.01727,
     "end_time": "2024-06-12T23:34:23.149916",
     "exception": false,
     "start_time": "2024-06-12T23:34:23.132646",
     "status": "completed"
    },
    "tags": []
   },
   "outputs": [],
   "source": [
    "# SEPARATE FEATURES AND LABELS FOR TRAINING AND TEST DATASETS\n",
    "x_train_full = df_train['Description']\n",
    "y_train_full = df_train['Genre']\n",
    "\n",
    "x_test = df_test['Description']\n",
    "y_test = df_test['Genre']"
   ]
  },
  {
   "cell_type": "code",
   "execution_count": 22,
   "id": "34479467",
   "metadata": {
    "execution": {
     "iopub.execute_input": "2024-06-12T23:34:23.171370Z",
     "iopub.status.busy": "2024-06-12T23:34:23.170504Z",
     "iopub.status.idle": "2024-06-12T23:34:23.175526Z",
     "shell.execute_reply": "2024-06-12T23:34:23.174588Z"
    },
    "papermill": {
     "duration": 0.018379,
     "end_time": "2024-06-12T23:34:23.178009",
     "exception": false,
     "start_time": "2024-06-12T23:34:23.159630",
     "status": "completed"
    },
    "tags": []
   },
   "outputs": [
    {
     "name": "stdout",
     "output_type": "stream",
     "text": [
      "(54104,)\n",
      "(54104,)\n"
     ]
    }
   ],
   "source": [
    "# DISPLAY THE SHAPES OF THE FEATURE AND LABEL ARRAYS FOR THE TRAINING DATASET\n",
    "print(x_train_full.shape)\n",
    "print(y_train_full.shape)"
   ]
  },
  {
   "cell_type": "code",
   "execution_count": 23,
   "id": "0dedf6e3",
   "metadata": {
    "execution": {
     "iopub.execute_input": "2024-06-12T23:34:23.199056Z",
     "iopub.status.busy": "2024-06-12T23:34:23.198212Z",
     "iopub.status.idle": "2024-06-12T23:34:23.203306Z",
     "shell.execute_reply": "2024-06-12T23:34:23.202397Z"
    },
    "papermill": {
     "duration": 0.017726,
     "end_time": "2024-06-12T23:34:23.205389",
     "exception": false,
     "start_time": "2024-06-12T23:34:23.187663",
     "status": "completed"
    },
    "tags": []
   },
   "outputs": [
    {
     "name": "stdout",
     "output_type": "stream",
     "text": [
      "(54086,)\n",
      "(54086,)\n"
     ]
    }
   ],
   "source": [
    "# DISPLAY THE SHAPES OF THE FEATURE AND LABEL ARRAYS FOR THE TEST DATASET\n",
    "print(x_test.shape)\n",
    "print(y_test.shape)"
   ]
  },
  {
   "cell_type": "markdown",
   "id": "524eaf33",
   "metadata": {
    "papermill": {
     "duration": 0.009343,
     "end_time": "2024-06-12T23:34:23.224511",
     "exception": false,
     "start_time": "2024-06-12T23:34:23.215168",
     "status": "completed"
    },
    "tags": []
   },
   "source": [
    "# DATA VISUALIZATION"
   ]
  },
  {
   "cell_type": "code",
   "execution_count": 24,
   "id": "1aac62ee",
   "metadata": {
    "execution": {
     "iopub.execute_input": "2024-06-12T23:34:23.245724Z",
     "iopub.status.busy": "2024-06-12T23:34:23.245375Z",
     "iopub.status.idle": "2024-06-12T23:34:24.862365Z",
     "shell.execute_reply": "2024-06-12T23:34:24.861357Z"
    },
    "papermill": {
     "duration": 1.630533,
     "end_time": "2024-06-12T23:34:24.864763",
     "exception": false,
     "start_time": "2024-06-12T23:34:23.234230",
     "status": "completed"
    },
    "tags": []
   },
   "outputs": [
    {
     "data": {
      "image/png": "[encoded data removed]",
      "text/plain": [
       "<Figure size 1000x600 with 1 Axes>"
      ]
     },
     "metadata": {},
     "output_type": "display_data"
    }
   ],
   "source": [
    "# IMPORTING VISUALIZATION LIBRARIES\n",
    "import seaborn as sns\n",
    "import matplotlib.pyplot as plt\n",
    "\n",
    "# PLOT THE DISTRIBUTION OF GENRES IN THE TRAINING DATASET\n",
    "plt.figure(figsize=(10,6))\n",
    "sns.countplot(x='Genre', hue='Genre', data=df_train, order=df_train['Genre'].value_counts().index, palette='viridis', legend=False)\n",
    "plt.title('Genre Distribution')\n",
    "plt.xlabel('Genre')\n",
    "plt.ylabel('Count')\n",
    "plt.xticks(rotation=90)\n",
    "plt.show()\n"
   ]
  },
  {
   "cell_type": "markdown",
   "id": "732322fd",
   "metadata": {
    "papermill": {
     "duration": 0.010382,
     "end_time": "2024-06-12T23:34:24.885954",
     "exception": false,
     "start_time": "2024-06-12T23:34:24.875572",
     "status": "completed"
    },
    "tags": []
   },
   "source": [
    "# DATA SPLITTING"
   ]
  },
  {
   "cell_type": "code",
   "execution_count": 25,
   "id": "6197e5c0",
   "metadata": {
    "execution": {
     "iopub.execute_input": "2024-06-12T23:34:24.908085Z",
     "iopub.status.busy": "2024-06-12T23:34:24.907729Z",
     "iopub.status.idle": "2024-06-12T23:34:25.138310Z",
     "shell.execute_reply": "2024-06-12T23:34:25.137461Z"
    },
    "papermill": {
     "duration": 0.244479,
     "end_time": "2024-06-12T23:34:25.140762",
     "exception": false,
     "start_time": "2024-06-12T23:34:24.896283",
     "status": "completed"
    },
    "tags": []
   },
   "outputs": [],
   "source": [
    "# IMPORTING train_test_split FROM sklearn TO SPLIT THE DATA\n",
    "from sklearn.model_selection import train_test_split\n",
    "\n",
    "# SPLIT THE TRAINING DATA INTO TRAINING AND VALIDATION SETS\n",
    "X_train , X_val , Y_train , Y_val = train_test_split(x_train_full , y_train_full , test_size=0.2 , random_state=42)"
   ]
  },
  {
   "cell_type": "code",
   "execution_count": 26,
   "id": "a556c3bb",
   "metadata": {
    "execution": {
     "iopub.execute_input": "2024-06-12T23:34:25.163499Z",
     "iopub.status.busy": "2024-06-12T23:34:25.163108Z",
     "iopub.status.idle": "2024-06-12T23:34:25.168941Z",
     "shell.execute_reply": "2024-06-12T23:34:25.168024Z"
    },
    "papermill": {
     "duration": 0.020327,
     "end_time": "2024-06-12T23:34:25.171753",
     "exception": false,
     "start_time": "2024-06-12T23:34:25.151426",
     "status": "completed"
    },
    "tags": []
   },
   "outputs": [
    {
     "name": "stdout",
     "output_type": "stream",
     "text": [
      "(43283,)\n",
      "(10821,)\n",
      "(54086,)\n",
      "\n",
      "\n",
      "(43283,)\n",
      "(10821,)\n",
      "(54086,)\n"
     ]
    }
   ],
   "source": [
    "# DISPLAY THE SHAPES OF THE TRAINING , VALIDATION AND TEST FEATURE SETS\n",
    "print(X_train.shape)\n",
    "print(X_val.shape)\n",
    "print(x_test.shape)\n",
    "\n",
    "print('\\n')\n",
    "\n",
    "# DISPLAY THE SHAPES OF THE TRAINING , VALIDATION AND TEST LABEL SETS\n",
    "print(Y_train.shape)\n",
    "print(Y_val.shape)\n",
    "print(y_test.shape)"
   ]
  },
  {
   "cell_type": "markdown",
   "id": "c4ddfd37",
   "metadata": {
    "papermill": {
     "duration": 0.010048,
     "end_time": "2024-06-12T23:34:25.192307",
     "exception": false,
     "start_time": "2024-06-12T23:34:25.182259",
     "status": "completed"
    },
    "tags": []
   },
   "source": [
    "# FEATURE EXTRACTION"
   ]
  },
  {
   "cell_type": "code",
   "execution_count": 27,
   "id": "ea366144",
   "metadata": {
    "execution": {
     "iopub.execute_input": "2024-06-12T23:34:25.214459Z",
     "iopub.status.busy": "2024-06-12T23:34:25.214082Z",
     "iopub.status.idle": "2024-06-12T23:34:34.202602Z",
     "shell.execute_reply": "2024-06-12T23:34:34.201661Z"
    },
    "papermill": {
     "duration": 9.002393,
     "end_time": "2024-06-12T23:34:34.205145",
     "exception": false,
     "start_time": "2024-06-12T23:34:25.202752",
     "status": "completed"
    },
    "tags": []
   },
   "outputs": [],
   "source": [
    "# IMPORT TfidfVectorizer FROM sklearn FOR FEATURE EXTRACTION\n",
    "from sklearn.feature_extraction.text import TfidfVectorizer\n",
    "\n",
    "# INITIALIZE TF-IDF VECTORIZER\n",
    "tfidf = TfidfVectorizer(stop_words ='english' , max_features=5000)\n",
    "\n",
    "# FIT AND TRANSFORM THE TRAINING FEATURES, AND TRANSFORM THE VALIDATION AND TEST FEATURES\n",
    "X_train_vec = tfidf.fit_transform(X_train)\n",
    "X_val_vec = tfidf.transform(X_val)\n",
    "X_test_vec = tfidf.transform(x_test)"
   ]
  },
  {
   "cell_type": "markdown",
   "id": "ff66948b",
   "metadata": {
    "papermill": {
     "duration": 0.010159,
     "end_time": "2024-06-12T23:34:34.226239",
     "exception": false,
     "start_time": "2024-06-12T23:34:34.216080",
     "status": "completed"
    },
    "tags": []
   },
   "source": [
    "# MODEL TRAINING (NAIVE BAYES)"
   ]
  },
  {
   "cell_type": "code",
   "execution_count": 28,
   "id": "e5360b8f",
   "metadata": {
    "execution": {
     "iopub.execute_input": "2024-06-12T23:34:34.248762Z",
     "iopub.status.busy": "2024-06-12T23:34:34.248396Z",
     "iopub.status.idle": "2024-06-12T23:34:34.458198Z",
     "shell.execute_reply": "2024-06-12T23:34:34.457191Z"
    },
    "papermill": {
     "duration": 0.223747,
     "end_time": "2024-06-12T23:34:34.460476",
     "exception": false,
     "start_time": "2024-06-12T23:34:34.236729",
     "status": "completed"
    },
    "tags": []
   },
   "outputs": [
    {
     "data": {
      "text/html": [
       "<style>#sk-container-id-1 {\n",
       "  /* Definition of color scheme common for light and dark mode */\n",
       "  --sklearn-color-text: black;\n",
       "  --sklearn-color-line: gray;\n",
       "  /* Definition of color scheme for unfitted estimators */\n",
       "  --sklearn-color-unfitted-level-0: #fff5e6;\n",
       "  --sklearn-color-unfitted-level-1: #f6e4d2;\n",
       "  --sklearn-color-unfitted-level-2: #ffe0b3;\n",
       "  --sklearn-color-unfitted-level-3: chocolate;\n",
       "  /* Definition of color scheme for fitted estimators */\n",
       "  --sklearn-color-fitted-level-0: #f0f8ff;\n",
       "  --sklearn-color-fitted-level-1: #d4ebff;\n",
       "  --sklearn-color-fitted-level-2: #b3dbfd;\n",
       "  --sklearn-color-fitted-level-3: cornflowerblue;\n",
       "\n",
       "  /* Specific color for light theme */\n",
       "  --sklearn-color-text-on-default-background: var(--sg-text-color, var(--theme-code-foreground, var(--jp-content-font-color1, black)));\n",
       "  --sklearn-color-background: var(--sg-background-color, var(--theme-background, var(--jp-layout-color0, white)));\n",
       "  --sklearn-color-border-box: var(--sg-text-color, var(--theme-code-foreground, var(--jp-content-font-color1, black)));\n",
       "  --sklearn-color-icon: #696969;\n",
       "\n",
       "  @media (prefers-color-scheme: dark) {\n",
       "    /* Redefinition of color scheme for dark theme */\n",
       "    --sklearn-color-text-on-default-background: var(--sg-text-color, var(--theme-code-foreground, var(--jp-content-font-color1, white)));\n",
       "    --sklearn-color-background: var(--sg-background-color, var(--theme-background, var(--jp-layout-color0, #111)));\n",
       "    --sklearn-color-border-box: var(--sg-text-color, var(--theme-code-foreground, var(--jp-content-font-color1, white)));\n",
       "    --sklearn-color-icon: #878787;\n",
       "  }\n",
       "}\n",
       "\n",
       "#sk-container-id-1 {\n",
       "  color: var(--sklearn-color-text);\n",
       "}\n",
       "\n",
       "#sk-container-id-1 pre {\n",
       "  padding: 0;\n",
       "}\n",
       "\n",
       "#sk-container-id-1 input.sk-hidden--visually {\n",
       "  border: 0;\n",
       "  clip: rect(1px 1px 1px 1px);\n",
       "  clip: rect(1px, 1px, 1px, 1px);\n",
       "  height: 1px;\n",
       "  margin: -1px;\n",
       "  overflow: hidden;\n",
       "  padding: 0;\n",
       "  position: absolute;\n",
       "  width: 1px;\n",
       "}\n",
       "\n",
       "#sk-container-id-1 div.sk-dashed-wrapped {\n",
       "  border: 1px dashed var(--sklearn-color-line);\n",
       "  margin: 0 0.4em 0.5em 0.4em;\n",
       "  box-sizing: border-box;\n",
       "  padding-bottom: 0.4em;\n",
       "  background-color: var(--sklearn-color-background);\n",
       "}\n",
       "\n",
       "#sk-container-id-1 div.sk-container {\n",
       "  /* jupyter's `normalize.less` sets `[hidden] { display: none; }`\n",
       "     but bootstrap.min.css set `[hidden] { display: none !important; }`\n",
       "     so we also need the `!important` here to be able to override the\n",
       "     default hidden behavior on the sphinx rendered scikit-learn.org.\n",
       "     See: https://github.com/scikit-learn/scikit-learn/issues/21755 */\n",
       "  display: inline-block !important;\n",
       "  position: relative;\n",
       "}\n",
       "\n",
       "#sk-container-id-1 div.sk-text-repr-fallback {\n",
       "  display: none;\n",
       "}\n",
       "\n",
       "div.sk-parallel-item,\n",
       "div.sk-serial,\n",
       "div.sk-item {\n",
       "  /* draw centered vertical line to link estimators */\n",
       "  background-image: linear-gradient(var(--sklearn-color-text-on-default-background), var(--sklearn-color-text-on-default-background));\n",
       "  background-size: 2px 100%;\n",
       "  background-repeat: no-repeat;\n",
       "  background-position: center center;\n",
       "}\n",
       "\n",
       "/* Parallel-specific style estimator block */\n",
       "\n",
       "#sk-container-id-1 div.sk-parallel-item::after {\n",
       "  content: \"\";\n",
       "  width: 100%;\n",
       "  border-bottom: 2px solid var(--sklearn-color-text-on-default-background);\n",
       "  flex-grow: 1;\n",
       "}\n",
       "\n",
       "#sk-container-id-1 div.sk-parallel {\n",
       "  display: flex;\n",
       "  align-items: stretch;\n",
       "  justify-content: center;\n",
       "  background-color: var(--sklearn-color-background);\n",
       "  position: relative;\n",
       "}\n",
       "\n",
       "#sk-container-id-1 div.sk-parallel-item {\n",
       "  display: flex;\n",
       "  flex-direction: column;\n",
       "}\n",
       "\n",
       "#sk-container-id-1 div.sk-parallel-item:first-child::after {\n",
       "  align-self: flex-end;\n",
       "  width: 50%;\n",
       "}\n",
       "\n",
       "#sk-container-id-1 div.sk-parallel-item:last-child::after {\n",
       "  align-self: flex-start;\n",
       "  width: 50%;\n",
       "}\n",
       "\n",
       "#sk-container-id-1 div.sk-parallel-item:only-child::after {\n",
       "  width: 0;\n",
       "}\n",
       "\n",
       "/* Serial-specific style estimator block */\n",
       "\n",
       "#sk-container-id-1 div.sk-serial {\n",
       "  display: flex;\n",
       "  flex-direction: column;\n",
       "  align-items: center;\n",
       "  background-color: var(--sklearn-color-background);\n",
       "  padding-right: 1em;\n",
       "  padding-left: 1em;\n",
       "}\n",
       "\n",
       "\n",
       "/* Toggleable style: style used for estimator/Pipeline/ColumnTransformer box that is\n",
       "clickable and can be expanded/collapsed.\n",
       "- Pipeline and ColumnTransformer use this feature and define the default style\n",
       "- Estimators will overwrite some part of the style using the `sk-estimator` class\n",
       "*/\n",
       "\n",
       "/* Pipeline and ColumnTransformer style (default) */\n",
       "\n",
       "#sk-container-id-1 div.sk-toggleable {\n",
       "  /* Default theme specific background. It is overwritten whether we have a\n",
       "  specific estimator or a Pipeline/ColumnTransformer */\n",
       "  background-color: var(--sklearn-color-background);\n",
       "}\n",
       "\n",
       "/* Toggleable label */\n",
       "#sk-container-id-1 label.sk-toggleable__label {\n",
       "  cursor: pointer;\n",
       "  display: block;\n",
       "  width: 100%;\n",
       "  margin-bottom: 0;\n",
       "  padding: 0.5em;\n",
       "  box-sizing: border-box;\n",
       "  text-align: center;\n",
       "}\n",
       "\n",
       "#sk-container-id-1 label.sk-toggleable__label-arrow:before {\n",
       "  /* Arrow on the left of the label */\n",
       "  content: \"▸\";\n",
       "  float: left;\n",
       "  margin-right: 0.25em;\n",
       "  color: var(--sklearn-color-icon);\n",
       "}\n",
       "\n",
       "#sk-container-id-1 label.sk-toggleable__label-arrow:hover:before {\n",
       "  color: var(--sklearn-color-text);\n",
       "}\n",
       "\n",
       "/* Toggleable content - dropdown */\n",
       "\n",
       "#sk-container-id-1 div.sk-toggleable__content {\n",
       "  max-height: 0;\n",
       "  max-width: 0;\n",
       "  overflow: hidden;\n",
       "  text-align: left;\n",
       "  /* unfitted */\n",
       "  background-color: var(--sklearn-color-unfitted-level-0);\n",
       "}\n",
       "\n",
       "#sk-container-id-1 div.sk-toggleable__content.fitted {\n",
       "  /* fitted */\n",
       "  background-color: var(--sklearn-color-fitted-level-0);\n",
       "}\n",
       "\n",
       "#sk-container-id-1 div.sk-toggleable__content pre {\n",
       "  margin: 0.2em;\n",
       "  border-radius: 0.25em;\n",
       "  color: var(--sklearn-color-text);\n",
       "  /* unfitted */\n",
       "  background-color: var(--sklearn-color-unfitted-level-0);\n",
       "}\n",
       "\n",
       "#sk-container-id-1 div.sk-toggleable__content.fitted pre {\n",
       "  /* unfitted */\n",
       "  background-color: var(--sklearn-color-fitted-level-0);\n",
       "}\n",
       "\n",
       "#sk-container-id-1 input.sk-toggleable__control:checked~div.sk-toggleable__content {\n",
       "  /* Expand drop-down */\n",
       "  max-height: 200px;\n",
       "  max-width: 100%;\n",
       "  overflow: auto;\n",
       "}\n",
       "\n",
       "#sk-container-id-1 input.sk-toggleable__control:checked~label.sk-toggleable__label-arrow:before {\n",
       "  content: \"▾\";\n",
       "}\n",
       "\n",
       "/* Pipeline/ColumnTransformer-specific style */\n",
       "\n",
       "#sk-container-id-1 div.sk-label input.sk-toggleable__control:checked~label.sk-toggleable__label {\n",
       "  color: var(--sklearn-color-text);\n",
       "  background-color: var(--sklearn-color-unfitted-level-2);\n",
       "}\n",
       "\n",
       "#sk-container-id-1 div.sk-label.fitted input.sk-toggleable__control:checked~label.sk-toggleable__label {\n",
       "  background-color: var(--sklearn-color-fitted-level-2);\n",
       "}\n",
       "\n",
       "/* Estimator-specific style */\n",
       "\n",
       "/* Colorize estimator box */\n",
       "#sk-container-id-1 div.sk-estimator input.sk-toggleable__control:checked~label.sk-toggleable__label {\n",
       "  /* unfitted */\n",
       "  background-color: var(--sklearn-color-unfitted-level-2);\n",
       "}\n",
       "\n",
       "#sk-container-id-1 div.sk-estimator.fitted input.sk-toggleable__control:checked~label.sk-toggleable__label {\n",
       "  /* fitted */\n",
       "  background-color: var(--sklearn-color-fitted-level-2);\n",
       "}\n",
       "\n",
       "#sk-container-id-1 div.sk-label label.sk-toggleable__label,\n",
       "#sk-container-id-1 div.sk-label label {\n",
       "  /* The background is the default theme color */\n",
       "  color: var(--sklearn-color-text-on-default-background);\n",
       "}\n",
       "\n",
       "/* On hover, darken the color of the background */\n",
       "#sk-container-id-1 div.sk-label:hover label.sk-toggleable__label {\n",
       "  color: var(--sklearn-color-text);\n",
       "  background-color: var(--sklearn-color-unfitted-level-2);\n",
       "}\n",
       "\n",
       "/* Label box, darken color on hover, fitted */\n",
       "#sk-container-id-1 div.sk-label.fitted:hover label.sk-toggleable__label.fitted {\n",
       "  color: var(--sklearn-color-text);\n",
       "  background-color: var(--sklearn-color-fitted-level-2);\n",
       "}\n",
       "\n",
       "/* Estimator label */\n",
       "\n",
       "#sk-container-id-1 div.sk-label label {\n",
       "  font-family: monospace;\n",
       "  font-weight: bold;\n",
       "  display: inline-block;\n",
       "  line-height: 1.2em;\n",
       "}\n",
       "\n",
       "#sk-container-id-1 div.sk-label-container {\n",
       "  text-align: center;\n",
       "}\n",
       "\n",
       "/* Estimator-specific */\n",
       "#sk-container-id-1 div.sk-estimator {\n",
       "  font-family: monospace;\n",
       "  border: 1px dotted var(--sklearn-color-border-box);\n",
       "  border-radius: 0.25em;\n",
       "  box-sizing: border-box;\n",
       "  margin-bottom: 0.5em;\n",
       "  /* unfitted */\n",
       "  background-color: var(--sklearn-color-unfitted-level-0);\n",
       "}\n",
       "\n",
       "#sk-container-id-1 div.sk-estimator.fitted {\n",
       "  /* fitted */\n",
       "  background-color: var(--sklearn-color-fitted-level-0);\n",
       "}\n",
       "\n",
       "/* on hover */\n",
       "#sk-container-id-1 div.sk-estimator:hover {\n",
       "  /* unfitted */\n",
       "  background-color: var(--sklearn-color-unfitted-level-2);\n",
       "}\n",
       "\n",
       "#sk-container-id-1 div.sk-estimator.fitted:hover {\n",
       "  /* fitted */\n",
       "  background-color: var(--sklearn-color-fitted-level-2);\n",
       "}\n",
       "\n",
       "/* Specification for estimator info (e.g. \"i\" and \"?\") */\n",
       "\n",
       "/* Common style for \"i\" and \"?\" */\n",
       "\n",
       ".sk-estimator-doc-link,\n",
       "a:link.sk-estimator-doc-link,\n",
       "a:visited.sk-estimator-doc-link {\n",
       "  float: right;\n",
       "  font-size: smaller;\n",
       "  line-height: 1em;\n",
       "  font-family: monospace;\n",
       "  background-color: var(--sklearn-color-background);\n",
       "  border-radius: 1em;\n",
       "  height: 1em;\n",
       "  width: 1em;\n",
       "  text-decoration: none !important;\n",
       "  margin-left: 1ex;\n",
       "  /* unfitted */\n",
       "  border: var(--sklearn-color-unfitted-level-1) 1pt solid;\n",
       "  color: var(--sklearn-color-unfitted-level-1);\n",
       "}\n",
       "\n",
       ".sk-estimator-doc-link.fitted,\n",
       "a:link.sk-estimator-doc-link.fitted,\n",
       "a:visited.sk-estimator-doc-link.fitted {\n",
       "  /* fitted */\n",
       "  border: var(--sklearn-color-fitted-level-1) 1pt solid;\n",
       "  color: var(--sklearn-color-fitted-level-1);\n",
       "}\n",
       "\n",
       "/* On hover */\n",
       "div.sk-estimator:hover .sk-estimator-doc-link:hover,\n",
       ".sk-estimator-doc-link:hover,\n",
       "div.sk-label-container:hover .sk-estimator-doc-link:hover,\n",
       ".sk-estimator-doc-link:hover {\n",
       "  /* unfitted */\n",
       "  background-color: var(--sklearn-color-unfitted-level-3);\n",
       "  color: var(--sklearn-color-background);\n",
       "  text-decoration: none;\n",
       "}\n",
       "\n",
       "div.sk-estimator.fitted:hover .sk-estimator-doc-link.fitted:hover,\n",
       ".sk-estimator-doc-link.fitted:hover,\n",
       "div.sk-label-container:hover .sk-estimator-doc-link.fitted:hover,\n",
       ".sk-estimator-doc-link.fitted:hover {\n",
       "  /* fitted */\n",
       "  background-color: var(--sklearn-color-fitted-level-3);\n",
       "  color: var(--sklearn-color-background);\n",
       "  text-decoration: none;\n",
       "}\n",
       "\n",
       "/* Span, style for the box shown on hovering the info icon */\n",
       ".sk-estimator-doc-link span {\n",
       "  display: none;\n",
       "  z-index: 9999;\n",
       "  position: relative;\n",
       "  font-weight: normal;\n",
       "  right: .2ex;\n",
       "  padding: .5ex;\n",
       "  margin: .5ex;\n",
       "  width: min-content;\n",
       "  min-width: 20ex;\n",
       "  max-width: 50ex;\n",
       "  color: var(--sklearn-color-text);\n",
       "  box-shadow: 2pt 2pt 4pt #999;\n",
       "  /* unfitted */\n",
       "  background: var(--sklearn-color-unfitted-level-0);\n",
       "  border: .5pt solid var(--sklearn-color-unfitted-level-3);\n",
       "}\n",
       "\n",
       ".sk-estimator-doc-link.fitted span {\n",
       "  /* fitted */\n",
       "  background: var(--sklearn-color-fitted-level-0);\n",
       "  border: var(--sklearn-color-fitted-level-3);\n",
       "}\n",
       "\n",
       ".sk-estimator-doc-link:hover span {\n",
       "  display: block;\n",
       "}\n",
       "\n",
       "/* \"?\"-specific style due to the `<a>` HTML tag */\n",
       "\n",
       "#sk-container-id-1 a.estimator_doc_link {\n",
       "  float: right;\n",
       "  font-size: 1rem;\n",
       "  line-height: 1em;\n",
       "  font-family: monospace;\n",
       "  background-color: var(--sklearn-color-background);\n",
       "  border-radius: 1rem;\n",
       "  height: 1rem;\n",
       "  width: 1rem;\n",
       "  text-decoration: none;\n",
       "  /* unfitted */\n",
       "  color: var(--sklearn-color-unfitted-level-1);\n",
       "  border: var(--sklearn-color-unfitted-level-1) 1pt solid;\n",
       "}\n",
       "\n",
       "#sk-container-id-1 a.estimator_doc_link.fitted {\n",
       "  /* fitted */\n",
       "  border: var(--sklearn-color-fitted-level-1) 1pt solid;\n",
       "  color: var(--sklearn-color-fitted-level-1);\n",
       "}\n",
       "\n",
       "/* On hover */\n",
       "#sk-container-id-1 a.estimator_doc_link:hover {\n",
       "  /* unfitted */\n",
       "  background-color: var(--sklearn-color-unfitted-level-3);\n",
       "  color: var(--sklearn-color-background);\n",
       "  text-decoration: none;\n",
       "}\n",
       "\n",
       "#sk-container-id-1 a.estimator_doc_link.fitted:hover {\n",
       "  /* fitted */\n",
       "  background-color: var(--sklearn-color-fitted-level-3);\n",
       "}\n",
       "</style><div id=\"sk-container-id-1\" class=\"sk-top-container\"><div class=\"sk-text-repr-fallback\"><pre>MultinomialNB()</pre><b>In a Jupyter environment, please rerun this cell to show the HTML representation or trust the notebook. <br />On GitHub, the HTML representation is unable to render, please try loading this page with nbviewer.org.</b></div><div class=\"sk-container\" hidden><div class=\"sk-item\"><div class=\"sk-estimator fitted sk-toggleable\"><input class=\"sk-toggleable__control sk-hidden--visually\" id=\"sk-estimator-id-1\" type=\"checkbox\" checked><label for=\"sk-estimator-id-1\" class=\"sk-toggleable__label fitted sk-toggleable__label-arrow fitted\">&nbsp;&nbsp;MultinomialNB<a class=\"sk-estimator-doc-link fitted\" rel=\"noreferrer\" target=\"_blank\" href=\"https://scikit-learn.org/1.4/modules/generated/sklearn.naive_bayes.MultinomialNB.html\">?<span>Documentation for MultinomialNB</span></a><span class=\"sk-estimator-doc-link fitted\">i<span>Fitted</span></span></label><div class=\"sk-toggleable__content fitted\"><pre>MultinomialNB()</pre></div> </div></div></div></div>"
      ],
      "text/plain": [
       "MultinomialNB()"
      ]
     },
     "execution_count": 28,
     "metadata": {},
     "output_type": "execute_result"
    }
   ],
   "source": [
    "# IMPORT MULTINOMIAL NAIVE BAYES CLASSIFIER FROM sklearn\n",
    "from sklearn.naive_bayes import MultinomialNB\n",
    "\n",
    "# TRAIN THE MULTINOMIAL NAIVE BAYES CLASSIFIER\n",
    "nb = MultinomialNB()\n",
    "nb.fit(X_train_vec, Y_train)"
   ]
  },
  {
   "cell_type": "markdown",
   "id": "1066a607",
   "metadata": {
    "papermill": {
     "duration": 0.010867,
     "end_time": "2024-06-12T23:34:34.482371",
     "exception": false,
     "start_time": "2024-06-12T23:34:34.471504",
     "status": "completed"
    },
    "tags": []
   },
   "source": [
    "# MODEL PREDICTIONS"
   ]
  },
  {
   "cell_type": "code",
   "execution_count": 29,
   "id": "f64f8397",
   "metadata": {
    "execution": {
     "iopub.execute_input": "2024-06-12T23:34:34.505538Z",
     "iopub.status.busy": "2024-06-12T23:34:34.505136Z",
     "iopub.status.idle": "2024-06-12T23:34:34.519188Z",
     "shell.execute_reply": "2024-06-12T23:34:34.518161Z"
    },
    "papermill": {
     "duration": 0.028373,
     "end_time": "2024-06-12T23:34:34.521724",
     "exception": false,
     "start_time": "2024-06-12T23:34:34.493351",
     "status": "completed"
    },
    "tags": []
   },
   "outputs": [],
   "source": [
    "# MAKE PREDICTIONS ON THE VALIDATION SET\n",
    "y_pred_val = nb.predict(X_val_vec)"
   ]
  },
  {
   "cell_type": "markdown",
   "id": "fac42de2",
   "metadata": {
    "papermill": {
     "duration": 0.01033,
     "end_time": "2024-06-12T23:34:34.543130",
     "exception": false,
     "start_time": "2024-06-12T23:34:34.532800",
     "status": "completed"
    },
    "tags": []
   },
   "source": [
    "# MODEL EVALUATION"
   ]
  },
  {
   "cell_type": "code",
   "execution_count": 30,
   "id": "e89784b9",
   "metadata": {
    "execution": {
     "iopub.execute_input": "2024-06-12T23:34:34.565943Z",
     "iopub.status.busy": "2024-06-12T23:34:34.565591Z",
     "iopub.status.idle": "2024-06-12T23:34:34.828156Z",
     "shell.execute_reply": "2024-06-12T23:34:34.827089Z"
    },
    "papermill": {
     "duration": 0.276744,
     "end_time": "2024-06-12T23:34:34.830529",
     "exception": false,
     "start_time": "2024-06-12T23:34:34.553785",
     "status": "completed"
    },
    "tags": []
   },
   "outputs": [
    {
     "name": "stdout",
     "output_type": "stream",
     "text": [
      "Validation Accuracy: 0.5261990573884114\n",
      "Validation Classification Report:\n",
      "               precision    recall  f1-score   support\n",
      "\n",
      "      action        0.52      0.06      0.11       271\n",
      "       adult        0.50      0.03      0.06       118\n",
      "   adventure        0.64      0.06      0.12       141\n",
      "   animation        0.00      0.00      0.00        84\n",
      "   biography        0.00      0.00      0.00        54\n",
      "      comedy        0.51      0.44      0.47      1445\n",
      "       crime        0.00      0.00      0.00        88\n",
      " documentary        0.59      0.89      0.71      2685\n",
      "       drama        0.46      0.83      0.59      2720\n",
      "      family        0.00      0.00      0.00       145\n",
      "     fantasy        0.00      0.00      0.00        57\n",
      "   game-show        1.00      0.20      0.33        40\n",
      "     history        0.00      0.00      0.00        52\n",
      "      horror        0.71      0.34      0.46       429\n",
      "       music        0.93      0.09      0.17       148\n",
      "     musical        0.00      0.00      0.00        55\n",
      "     mystery        0.00      0.00      0.00        89\n",
      "        news        0.00      0.00      0.00        39\n",
      "  reality-tv        0.40      0.01      0.02       167\n",
      "     romance        0.00      0.00      0.00       127\n",
      "      sci-fi        0.67      0.01      0.03       134\n",
      "       short        0.59      0.10      0.17      1001\n",
      "       sport        1.00      0.06      0.12        80\n",
      "   talk-show        0.00      0.00      0.00        73\n",
      "    thriller        0.56      0.01      0.03       341\n",
      "         war        0.00      0.00      0.00        27\n",
      "     western        0.97      0.55      0.70       211\n",
      "\n",
      "     accuracy                           0.53     10821\n",
      "    macro avg       0.37      0.14      0.15     10821\n",
      " weighted avg       0.51      0.53      0.45     10821\n",
      "\n"
     ]
    }
   ],
   "source": [
    "# IMPORT EVALUATION METRICS FROM sklearn\n",
    "from sklearn.metrics import accuracy_score, classification_report\n",
    "\n",
    "# EVALUATE THE MODEL ON THE VALIDATION SET\n",
    "accuracy_val = accuracy_score(Y_val, y_pred_val)\n",
    "print(\"Validation Accuracy:\", accuracy_val)\n",
    "print(\"Validation Classification Report:\")\n",
    "print(classification_report(Y_val, y_pred_val, zero_division=0))"
   ]
  },
  {
   "cell_type": "code",
   "execution_count": 31,
   "id": "2ab9f90e",
   "metadata": {
    "execution": {
     "iopub.execute_input": "2024-06-12T23:34:34.854155Z",
     "iopub.status.busy": "2024-06-12T23:34:34.853804Z",
     "iopub.status.idle": "2024-06-12T23:34:36.289725Z",
     "shell.execute_reply": "2024-06-12T23:34:36.288713Z"
    },
    "papermill": {
     "duration": 1.450412,
     "end_time": "2024-06-12T23:34:36.292124",
     "exception": false,
     "start_time": "2024-06-12T23:34:34.841712",
     "status": "completed"
    },
    "tags": []
   },
   "outputs": [
    {
     "name": "stdout",
     "output_type": "stream",
     "text": [
      "\n",
      "Test Accuracy: 0.5188773434899974\n",
      "Test Classification Report:\n",
      "               precision    recall  f1-score   support\n",
      "\n",
      "      action        0.59      0.09      0.15      1314\n",
      "       adult        0.54      0.06      0.10       590\n",
      "   adventure        0.81      0.05      0.10       773\n",
      "   animation        0.00      0.00      0.00       498\n",
      "   biography        0.00      0.00      0.00       264\n",
      "      comedy        0.51      0.42      0.46      7437\n",
      "       crime        0.00      0.00      0.00       505\n",
      " documentary        0.57      0.87      0.69     13085\n",
      "       drama        0.45      0.83      0.59     13565\n",
      "      family        0.00      0.00      0.00       774\n",
      "     fantasy        0.00      0.00      0.00       322\n",
      "   game-show        0.98      0.27      0.43       193\n",
      "     history        0.00      0.00      0.00       243\n",
      "      horror        0.70      0.33      0.45      2204\n",
      "       music        0.79      0.09      0.16       720\n",
      "     musical        0.00      0.00      0.00       273\n",
      "     mystery        0.00      0.00      0.00       318\n",
      "        news        0.00      0.00      0.00       181\n",
      "  reality-tv        0.59      0.01      0.02       881\n",
      "     romance        0.00      0.00      0.00       670\n",
      "      sci-fi        0.63      0.03      0.06       645\n",
      "       short        0.60      0.11      0.19      5061\n",
      "       sport        0.80      0.10      0.18       430\n",
      "   talk-show        0.00      0.00      0.00       389\n",
      "    thriller        0.34      0.01      0.02      1589\n",
      "         war        0.00      0.00      0.00       132\n",
      "     western        0.95      0.58      0.72      1030\n",
      "\n",
      "     accuracy                           0.52     54086\n",
      "    macro avg       0.36      0.14      0.16     54086\n",
      " weighted avg       0.50      0.52      0.44     54086\n",
      "\n"
     ]
    }
   ],
   "source": [
    "# MAKE PREDICTIONS ON THE TEST SET\n",
    "y_pred_test = nb.predict(X_test_vec)\n",
    "\n",
    "# EVALUATE THE MODEL ON THE TEST SET\n",
    "accuracy_test = accuracy_score(y_test, y_pred_test)\n",
    "print(\"\\nTest Accuracy:\", accuracy_test)\n",
    "print(\"Test Classification Report:\")\n",
    "print(classification_report(y_test, y_pred_test, zero_division=0))"
   ]
  }
 ],
 "metadata": {
  "kaggle": {
   "accelerator": "none",
   "dataSources": [
    {
     "datasetId": 1417162,
     "sourceId": 2347441,
     "sourceType": "datasetVersion"
    }
   ],
   "dockerImageVersionId": 30732,
   "isGpuEnabled": false,
   "isInternetEnabled": true,
   "language": "python",
   "sourceType": "notebook"
  },
  "kernelspec": {
   "display_name": "base",
   "language": "python",
   "name": "python3"
  },
  "language_info": {
   "codemirror_mode": {
    "name": "ipython",
    "version": 3
   },
   "file_extension": ".py",
   "mimetype": "text/x-python",
   "name": "python",
   "nbconvert_exporter": "python",
   "pygments_lexer": "ipython3",
   "version": "3.12.4"
  },
  "papermill": {
   "default_parameters": {},
   "duration": 20.123089,
   "end_time": "2024-06-12T23:34:36.945532",
   "environment_variables": {},
   "exception": null,
   "input_path": "__notebook__.ipynb",
   "output_path": "__notebook__.ipynb",
   "parameters": {},
   "start_time": "2024-06-12T23:34:16.822443",
   "version": "2.5.0"
  }
 },
 "nbformat": 4,
 "nbformat_minor": 5
}
